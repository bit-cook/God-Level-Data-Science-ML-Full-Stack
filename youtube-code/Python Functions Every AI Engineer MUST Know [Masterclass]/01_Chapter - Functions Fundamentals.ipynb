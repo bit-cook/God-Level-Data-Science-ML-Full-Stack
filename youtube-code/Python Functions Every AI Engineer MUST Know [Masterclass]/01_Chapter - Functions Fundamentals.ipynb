{
 "cells": [
  {
   "cell_type": "markdown",
   "id": "f8376b6c-cd4e-44dc-9db4-4f2ad7eddfe8",
   "metadata": {},
   "source": [
    "# Functions\n",
    "\n",
    "- basics\n",
    "- function arguments and parameters\n",
    "- return statement\n",
    "- default arguments"
   ]
  },
  {
   "cell_type": "code",
   "execution_count": null,
   "id": "dd71b492-07b5-42df-b52d-78770f3a3e51",
   "metadata": {},
   "outputs": [],
   "source": []
  }
 ],
 "metadata": {
  "kernelspec": {
   "display_name": "Python 3 (ipykernel)",
   "language": "python",
   "name": "python3"
  },
  "language_info": {
   "codemirror_mode": {
    "name": "ipython",
    "version": 3
   },
   "file_extension": ".py",
   "mimetype": "text/x-python",
   "name": "python",
   "nbconvert_exporter": "python",
   "pygments_lexer": "ipython3",
   "version": "3.12.9"
  }
 },
 "nbformat": 4,
 "nbformat_minor": 5
}
