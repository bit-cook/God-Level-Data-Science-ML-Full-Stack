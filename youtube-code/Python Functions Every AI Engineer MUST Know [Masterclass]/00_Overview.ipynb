{
 "cells": [
  {
   "cell_type": "markdown",
   "id": "5bece436-4eda-4b27-a51a-147691c27d95",
   "metadata": {},
   "source": [
    "#### If you are a beginner, Learn Python Fundamentals here:\n",
    "\n",
    "https://www.youtube.com/watch?v=Ty5QAOCliQk&t=9758s"
   ]
  },
  {
   "cell_type": "markdown",
   "id": "7b2c9158-0849-475c-b508-bb081a9d951b",
   "metadata": {},
   "source": [
    "###  Python Functions Every AI Engineer Must Know [Masterclass]\n",
    "\n",
    "##### Table of Content\n",
    "\n",
    "- 00_Overview\n",
    "- 01_Chapter - Functions Fundamentals\n",
    "- 02_Chapter - Synchronizers - zip & enumerate\n",
    "- 03_Chapter - Functional Accelerators - lambda, map, & filter\n",
    "- 04_Chapter - NumPy's Vectorized Functions\n",
    "- 05_Chapter - Pandas Functions\n",
    "- 06_Chapter - Full AI Workflow Takeaways\n",
    "\n"
   ]
  },
  {
   "cell_type": "code",
   "execution_count": null,
   "id": "fb9ffe34-3326-4bac-9271-239738359935",
   "metadata": {},
   "outputs": [],
   "source": []
  }
 ],
 "metadata": {
  "kernelspec": {
   "display_name": "Python 3 (ipykernel)",
   "language": "python",
   "name": "python3"
  },
  "language_info": {
   "codemirror_mode": {
    "name": "ipython",
    "version": 3
   },
   "file_extension": ".py",
   "mimetype": "text/x-python",
   "name": "python",
   "nbconvert_exporter": "python",
   "pygments_lexer": "ipython3",
   "version": "3.12.9"
  }
 },
 "nbformat": 4,
 "nbformat_minor": 5
}
