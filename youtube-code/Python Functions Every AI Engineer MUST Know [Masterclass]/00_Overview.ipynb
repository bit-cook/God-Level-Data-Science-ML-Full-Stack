{
 "cells": [
  {
   "cell_type": "code",
   "execution_count": null,
   "id": "12dff7ad-591f-47ae-9148-8f9a7620ec88",
   "metadata": {},
   "outputs": [],
   "source": []
  }
 ],
 "metadata": {
  "kernelspec": {
   "display_name": "",
   "name": ""
  },
  "language_info": {
   "name": ""
  }
 },
 "nbformat": 4,
 "nbformat_minor": 5
}
